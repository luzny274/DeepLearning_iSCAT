{
 "cells": [
  {
   "cell_type": "code",
   "execution_count": 3,
   "id": "4962ed78",
   "metadata": {},
   "outputs": [
    {
     "name": "stdout",
     "output_type": "stream",
     "text": [
      "Sample width:  448\n",
      "particlesWorker: Run\n",
      "Particle generation time: 0.059s\n",
      "sampleWorker:particlesWorker:  RunRun\n",
      "\n",
      "Particle generation time: 0.079s\n",
      "Sparse Subpixel Convolution initialized\n",
      "Preparation of memory took 1368 ms\n",
      "Preparation of memory took 0 ms\n",
      "\n",
      "OMP max threads: 64\n",
      "OMP setting number of threads to 40\n",
      "Conv generation time: 0.347s\n",
      "Target generation time: 0.001s\n",
      "Whole generation time: 0.389s\n",
      "Computation of convolutions took 290 ms\n",
      "\n",
      "OMP max threads: 40\n",
      "OMP setting number of threads to 40\n",
      "Computation of convolutions took 36 ms\n",
      "sampleWorker:particlesWorker:  RunRun\n",
      "\n",
      "Particle generation time: 0.074s\n",
      "Min particle in sight cnt: 0\n",
      "Max particle in sight cnt: 4\n",
      "Avg particle in sight cnt: 1.96875\n",
      "Std particle in sight cnt: 1.3746448404951732\n",
      "class: 0     |1     |2     |3     |4     |\n",
      "count: 22    |32    |27    |22    |25    |\n",
      "\n",
      "OMP max threads: 40\n",
      "OMP setting number of threads to 40\n",
      "Conv generation time: 0.304s\n",
      "Target generation time: 0.001s\n",
      "Whole generation time: 0.342s\n",
      "Computation of convolutions took 257 ms\n",
      "\n",
      "OMP max threads: 40\n",
      "OMP setting number of threads to 40\n",
      "Computation of convolutions took 34 ms\n",
      "sampleWorker:particlesWorker:  DieDie\n",
      "\n"
     ]
    }
   ],
   "source": [
    "import os\n",
    "import matplotlib.pylab as plt\n",
    "from matplotlib.patches import Rectangle\n",
    "import numpy as np\n",
    "\n",
    "\n",
    "from ipywidgets import Layout, interact, IntSlider, FloatSlider\n",
    "os.environ.setdefault(\"TF_CPP_MIN_LOG_LEVEL\", \"2\")  # Report only TF errors by default\n",
    "\n",
    "import DL_Sequence\n",
    "\n",
    "num_classes = 5\n",
    "res = 64\n",
    "exPT_cnt = 100\n",
    "devPT_cnt = 99\n",
    "exIntensity=1.0\n",
    "devIntensity=0.3\n",
    "\n",
    "mode = \"dynamic\"\n",
    "PSF_path=\"../PSF_subpx_fl32.npy\"\n",
    "PSF = np.load(PSF_path)\n",
    "\n",
    "dataset = DL_Sequence.iSCAT_DataGenerator(batch_size=32, epoch_size=128, res=res, frames=32, thread_count=40,\n",
    "                    PSF_path=PSF_path, exD=5000, devD=4000, exPT_cnt=exPT_cnt, devPT_cnt=devPT_cnt, exIntensity=exIntensity, devIntensity=devIntensity, target_frame=15,\n",
    "                    num_classes=num_classes, verbose = 2, noise_func = None, mode = mode)\n",
    "\n",
    "data = dataset.samples\n",
    "targets = dataset.particles_in_sight_cnt\n",
    "target_masks = dataset.target_masks\n",
    "poss = dataset.particle_positions\n",
    "pt_cnts = dataset.pt_cnts\n",
    "dataset.destroy()\n",
    "\n"
   ]
  },
  {
   "cell_type": "code",
   "execution_count": 4,
   "id": "e26d608d",
   "metadata": {},
   "outputs": [
    {
     "name": "stdout",
     "output_type": "stream",
     "text": [
      "(128, 32, 64, 64) (128,)\n",
      "1.0 0.0\n",
      "1.96875 1.3746448404951732\n"
     ]
    }
   ],
   "source": [
    "import tensorflow as tf\n",
    "\n",
    "test_model = False\n",
    "\n",
    "print(data.shape, targets.shape)\n",
    "\n",
    "print(np.max(data), np.min(data))\n",
    "print(np.mean(targets), np.std(targets))\n",
    "\n",
    "if test_model:\n",
    "    model_name = \"models/model_dense_5000_simple_\" + mode\n",
    "    model = tf.keras.models.load_model(model_name + \".h5\")\n",
    "    predictions = tf.argmax(model.predict(data), axis = 1)\n",
    "    predictions = np.array(predictions)\n",
    "    print(\"Accuracy: \", np.mean(predictions == targets))\n",
    "\n"
   ]
  },
  {
   "cell_type": "code",
   "execution_count": 7,
   "id": "cca02023",
   "metadata": {},
   "outputs": [
    {
     "data": {
      "application/vnd.jupyter.widget-view+json": {
       "model_id": "b567d2625b5046ab982071b6f1f608e7",
       "version_major": 2,
       "version_minor": 0
      },
      "text/plain": [
       "interactive(children=(IntSlider(value=0, description='step', max=31), IntSlider(value=0, description='sample_c…"
      ]
     },
     "metadata": {},
     "output_type": "display_data"
    }
   ],
   "source": [
    "sample_inds = np.insert(np.cumsum(pt_cnts), 0, 0)\n",
    "\n",
    "sample_size_px = 480\n",
    "FOV_edge = sample_size_px / 2 - res / 2\n",
    "\n",
    "def plot_step_fast(step, sample_cur):    \n",
    "    imgs = data[sample_cur]\n",
    "    masks = target_masks[sample_cur]\n",
    "    \n",
    "    begin = sample_inds[sample_cur]\n",
    "    end = begin + pt_cnts[sample_cur]\n",
    "    \n",
    "    poss_step = step % poss.shape[0]\n",
    "    \n",
    "    x = poss[poss_step, begin:end, 1]\n",
    "    y = poss[poss_step, begin:end, 0]\n",
    "    \n",
    "    plt.subplot(1, 2, 1)\n",
    "    plt.axis([-FOV_edge, sample_size_px-FOV_edge, -FOV_edge, sample_size_px-FOV_edge])\n",
    "    plt.gca().add_patch(Rectangle((0, 0), res, res, edgecolor = 'red', fill=False))\n",
    "    plt.gca().set_aspect('equal', adjustable='box')\n",
    "    plt.scatter(x,y)\n",
    "    \n",
    "    plt.subplot(1, 2, 2)\n",
    "    plt.imshow(imgs[step, :, :])\n",
    "    plt.axis([-0.5, res-0.5, -0.5, res-0.5])\n",
    "    plt.scatter(x,y, c=\"red\")\n",
    "    plt.title(\"data\")\n",
    "    plt.show()\n",
    "    \n",
    "    plt.subplot(1, 2, 1)\n",
    "    plt.imshow(masks[step, :, :])\n",
    "    plt.axis([-0.5, res-0.5, -0.5, res-0.5])\n",
    "    plt.show()\n",
    "    \n",
    "    print(\"gold:\", targets[sample_cur])\n",
    "    \n",
    "    \n",
    "    if test_model:\n",
    "        print(\"pred:\", int(predictions[sample_cur]))\n",
    "\n",
    "\n",
    "    \n",
    "interact(plot_step_fast, step=IntSlider(min=0, max=data.shape[1] - 1), sample_cur=IntSlider(min=0, max=data.shape[0] - 1));"
   ]
  },
  {
   "cell_type": "code",
   "execution_count": null,
   "id": "b2050760",
   "metadata": {},
   "outputs": [],
   "source": []
  }
 ],
 "metadata": {
  "kernelspec": {
   "display_name": "Python 3 (ipykernel)",
   "language": "python",
   "name": "python3"
  },
  "language_info": {
   "codemirror_mode": {
    "name": "ipython",
    "version": 3
   },
   "file_extension": ".py",
   "mimetype": "text/x-python",
   "name": "python",
   "nbconvert_exporter": "python",
   "pygments_lexer": "ipython3",
   "version": "3.9.16"
  }
 },
 "nbformat": 4,
 "nbformat_minor": 5
}
