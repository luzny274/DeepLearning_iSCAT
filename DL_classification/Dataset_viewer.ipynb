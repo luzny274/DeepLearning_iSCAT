{
 "cells": [
  {
   "cell_type": "code",
   "execution_count": 1,
   "id": "4962ed78",
   "metadata": {},
   "outputs": [
    {
     "ename": "ValueError",
     "evalue": "numpy.ndarray size changed, may indicate binary incompatibility. Expected 96 from C header, got 88 from PyObject",
     "output_type": "error",
     "traceback": [
      "\u001b[1;31m---------------------------------------------------------------------------\u001b[0m",
      "\u001b[1;31mValueError\u001b[0m                                Traceback (most recent call last)",
      "Cell \u001b[1;32mIn[1], line 10\u001b[0m\n\u001b[0;32m      7\u001b[0m \u001b[38;5;28;01mfrom\u001b[39;00m \u001b[38;5;21;01mipywidgets\u001b[39;00m \u001b[38;5;28;01mimport\u001b[39;00m Layout, interact, IntSlider, FloatSlider\n\u001b[0;32m      8\u001b[0m os\u001b[38;5;241m.\u001b[39menviron\u001b[38;5;241m.\u001b[39msetdefault(\u001b[38;5;124m\"\u001b[39m\u001b[38;5;124mTF_CPP_MIN_LOG_LEVEL\u001b[39m\u001b[38;5;124m\"\u001b[39m, \u001b[38;5;124m\"\u001b[39m\u001b[38;5;124m2\u001b[39m\u001b[38;5;124m\"\u001b[39m)  \u001b[38;5;66;03m# Report only TF errors by default\u001b[39;00m\n\u001b[1;32m---> 10\u001b[0m \u001b[38;5;28;01mimport\u001b[39;00m \u001b[38;5;21;01mDL_Sequence\u001b[39;00m\n\u001b[0;32m     12\u001b[0m num_classes \u001b[38;5;241m=\u001b[39m \u001b[38;5;241m5\u001b[39m\n\u001b[0;32m     13\u001b[0m res \u001b[38;5;241m=\u001b[39m \u001b[38;5;241m32\u001b[39m\n",
      "File \u001b[1;32mD:\\Users\\Vita\\Bachelor_Thesis_Stuff\\DeepLearning_iSCAT\\DL_regression\\DL_Sequence.py:5\u001b[0m\n\u001b[0;32m      2\u001b[0m \u001b[38;5;66;03m#imports\u001b[39;00m\n\u001b[0;32m      4\u001b[0m \u001b[38;5;28;01mimport\u001b[39;00m \u001b[38;5;21;01mnumpy\u001b[39;00m \u001b[38;5;28;01mas\u001b[39;00m \u001b[38;5;21;01mnp\u001b[39;00m\n\u001b[1;32m----> 5\u001b[0m \u001b[38;5;28;01mimport\u001b[39;00m \u001b[38;5;21;01mSparse_Subpixel_Convolution\u001b[39;00m \u001b[38;5;28;01mas\u001b[39;00m \u001b[38;5;21;01mSpConv\u001b[39;00m\n\u001b[0;32m      7\u001b[0m \u001b[38;5;28;01mimport\u001b[39;00m \u001b[38;5;21;01mtime\u001b[39;00m\n\u001b[0;32m      9\u001b[0m \u001b[38;5;28;01mimport\u001b[39;00m \u001b[38;5;21;01mkeras\u001b[39;00m\n",
      "File \u001b[1;32msparse_conv.pyx:1\u001b[0m, in \u001b[0;36minit Sparse_Subpixel_Convolution\u001b[1;34m()\u001b[0m\n",
      "\u001b[1;31mValueError\u001b[0m: numpy.ndarray size changed, may indicate binary incompatibility. Expected 96 from C header, got 88 from PyObject"
     ]
    }
   ],
   "source": [
    "import os\n",
    "import matplotlib.pylab as plt\n",
    "from matplotlib.patches import Rectangle\n",
    "import numpy as np\n",
    "\n",
    "\n",
    "from ipywidgets import Layout, interact, IntSlider, FloatSlider\n",
    "os.environ.setdefault(\"TF_CPP_MIN_LOG_LEVEL\", \"2\")  # Report only TF errors by default\n",
    "\n",
    "import DL_Sequence\n",
    "\n",
    "num_classes = 5\n",
    "res = 32\n",
    "\n",
    "dataset = DL_Sequence.iSCAT_DataGenerator(batch_size=4, epoch_size=1024, res=res, frames=32, thread_count=10,\n",
    "                    PSF_path=\"../PSF_subpx_fl32.npy\", exD=5000, devD=4000, exPT_cnt=500, devPT_cnt=499, exIntensity=1.0, devIntensity=0.3, target_frame=15,\n",
    "                    num_classes=num_classes, verbose = 1)\n",
    "\n",
    "data = dataset.samples\n",
    "targets = dataset.particles_in_sight_cnt\n",
    "poss = dataset.particle_positions\n",
    "pt_cnts = dataset.pt_cnts\n",
    "dataset.destroy()\n"
   ]
  },
  {
   "cell_type": "code",
   "execution_count": 4,
   "id": "e26d608d",
   "metadata": {},
   "outputs": [
    {
     "name": "stdout",
     "output_type": "stream",
     "text": [
      "WARNING:tensorflow:No training configuration found in the save file, so the model was *not* compiled. Compile it manually.\n",
      "32/32 [==============================] - 0s 9ms/step\n",
      "(1024, 32, 32, 32) (1024,)\n",
      "1.0 0.0\n",
      "1.9521484375 1.4693001873226277\n",
      "Accuracy:  0.419921875\n"
     ]
    }
   ],
   "source": [
    "import tensorflow as tf\n",
    "\n",
    "model_name = \"models/model_dense_5000_simple\"\n",
    "model = tf.keras.models.load_model(model_name + \".h5\")\n",
    "predictions = tf.argmax(model.predict(data), axis = 1)\n",
    "predictions = np.array(predictions)\n",
    "\n",
    "print(data.shape, targets.shape)\n",
    "\n",
    "print(np.max(data), np.min(data))\n",
    "print(np.mean(targets), np.std(targets))\n",
    "\n",
    "print(\"Accuracy: \", np.mean(predictions == targets))"
   ]
  },
  {
   "cell_type": "code",
   "execution_count": 3,
   "id": "cca02023",
   "metadata": {},
   "outputs": [
    {
     "data": {
      "application/vnd.jupyter.widget-view+json": {
       "model_id": "51165c4187834342bb7be6a0a1fe7a1f",
       "version_major": 2,
       "version_minor": 0
      },
      "text/plain": [
       "interactive(children=(IntSlider(value=0, description='step', max=31), IntSlider(value=0, description='sample_c…"
      ]
     },
     "metadata": {},
     "output_type": "display_data"
    }
   ],
   "source": [
    "sample_inds = np.insert(np.cumsum(pt_cnts), 0, 0)\n",
    "\n",
    "sample_size_px = 480\n",
    "FOV_edge = sample_size_px / 2 - res / 2\n",
    "\n",
    "def plot_step_fast(step, sample_cur):    \n",
    "    imgs = data[sample_cur]\n",
    "#     plt.imshow(imgs[step, :, :])\n",
    "#     plt.axis([-0.5, data.shape[2]-0.5, -0.5, data.shape[2]-0.5])\n",
    "#     plt.title(\"data\")\n",
    "#     plt.show()\n",
    "    \n",
    "    begin = sample_inds[sample_cur]\n",
    "    end = begin + pt_cnts[sample_cur]\n",
    "    x = poss[step, begin:end, 1]\n",
    "    y = poss[step, begin:end, 0]\n",
    "    \n",
    "    plt.subplot(1, 2, 1)\n",
    "    plt.axis([-FOV_edge, sample_size_px-FOV_edge, -FOV_edge, sample_size_px-FOV_edge])\n",
    "    plt.gca().add_patch(Rectangle((0, 0), res, res, edgecolor = 'red', fill=False))\n",
    "    plt.gca().set_aspect('equal', adjustable='box')\n",
    "    plt.scatter(x,y)\n",
    "    \n",
    "    plt.subplot(1, 2, 2)\n",
    "    plt.imshow(imgs[step, :, :])\n",
    "    plt.axis([-0.5, res-0.5, -0.5, res-0.5])\n",
    "    plt.scatter(x,y, c=\"red\")\n",
    "    plt.title(\"data\")\n",
    "    plt.show()\n",
    "    \n",
    "    print(\"gold:\", targets[sample_cur])\n",
    "    print(\"pred:\", int(predictions[sample_cur]))\n",
    "\n",
    "\n",
    "    \n",
    "interact(plot_step_fast, step=IntSlider(min=0, max=data.shape[1] - 1), sample_cur=IntSlider(min=0, max=data.shape[0] - 1));"
   ]
  },
  {
   "cell_type": "code",
   "execution_count": null,
   "id": "b2050760",
   "metadata": {},
   "outputs": [],
   "source": []
  }
 ],
 "metadata": {
  "kernelspec": {
   "display_name": "Python 3 (ipykernel)",
   "language": "python",
   "name": "python3"
  },
  "language_info": {
   "codemirror_mode": {
    "name": "ipython",
    "version": 3
   },
   "file_extension": ".py",
   "mimetype": "text/x-python",
   "name": "python",
   "nbconvert_exporter": "python",
   "pygments_lexer": "ipython3",
   "version": "3.9.16"
  }
 },
 "nbformat": 4,
 "nbformat_minor": 5
}
