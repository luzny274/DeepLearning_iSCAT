{
 "cells": [
  {
   "cell_type": "code",
   "execution_count": 5,
   "id": "4962ed78",
   "metadata": {},
   "outputs": [
    {
     "name": "stdout",
     "output_type": "stream",
     "text": [
      "Sample width:  448\n",
      "particlesWorker: Run\n",
      "Sparse Subpixel Convolution initialized\n",
      "Preparation of memory took 5 ms\n",
      "Particle generation time: 0.711s\n",
      "sampleWorker:particlesWorker:  Run\n",
      "Run\n",
      "\n",
      "OMP max threads: 24\n",
      "OMP setting number of threads to 40\n",
      "Particle generation time: 0.961s\n",
      "Conv generation time: 1.832s\n",
      "Computation of convolutions took 1573 ms\n",
      "Target generation time: 0.005s\n",
      "Whole generation time: 2.723s\n",
      "sampleWorker: particlesWorker: RunRun\n",
      "\n",
      "Min particle in sight cnt: 0\n",
      "Max particle in sight cnt: 4\n",
      "Avg particle in sight cnt: 1.8935546875\n",
      "Std particle in sight cnt: 1.4741912046769161\n",
      "class: 0     |1     |2     |3     |4     |\n",
      "count: 247   |211   |191   |154   |221   |\n",
      "\n",
      "OMP max threads: 40\n",
      "OMP setting number of threads to 40\n",
      "Particle generation time: 1.353s\n",
      "Conv generation time: 1.771s\n",
      "Computation of convolutions took 1535 ms\n",
      "Target generation time: 0.004s\n",
      "Whole generation time: 2.765s\n",
      "sampleWorker: particlesWorker: DieDie\n",
      "\n"
     ]
    }
   ],
   "source": [
    "import os\n",
    "import matplotlib.pylab as plt\n",
    "from matplotlib.patches import Rectangle\n",
    "import numpy as np\n",
    "\n",
    "\n",
    "from ipywidgets import Layout, interact, IntSlider, FloatSlider\n",
    "os.environ.setdefault(\"TF_CPP_MIN_LOG_LEVEL\", \"2\")  # Report only TF errors by default\n",
    "\n",
    "import DL_Sequence\n",
    "\n",
    "num_classes = 5\n",
    "res = 64\n",
    "\n",
    "mode = \"dynamic\"\n",
    "\n",
    "# dataset = DL_Sequence.iSCAT_DataGenerator(batch_size=4, epoch_size=1024, res=res, frames=32, thread_count=10,\n",
    "#                     PSF_path=\"../PSF_subpx_fl32.npy\", exD=5000, devD=4000, exPT_cnt=500, devPT_cnt=499, exIntensity=1.0, devIntensity=0.3, target_frame=15,\n",
    "#                     num_classes=num_classes, verbose = 2, noise_func = None, mode = mode)\n",
    "\n",
    "dataset = DL_Sequence.iSCAT_DataGenerator(batch_size=32, epoch_size=1024, res=res, frames=64, thread_count=40,\n",
    "                    PSF_path=\"../PSF_subpx_fl32.npy\", exD=5000, devD=4000, exPT_cnt=100, devPT_cnt=99, exIntensity=1.0, devIntensity=0.3, target_frame=15,\n",
    "                    num_classes=num_classes, verbose = 2, noise_func = None, mode = mode)\n",
    "\n",
    "data = dataset.samples\n",
    "targets = dataset.particles_in_sight_cnt\n",
    "poss = dataset.particle_positions\n",
    "pt_cnts = dataset.pt_cnts\n",
    "dataset.destroy()\n"
   ]
  },
  {
   "cell_type": "code",
   "execution_count": 6,
   "id": "e26d608d",
   "metadata": {},
   "outputs": [
    {
     "name": "stdout",
     "output_type": "stream",
     "text": [
      "(1024, 64, 64, 64) (1024,)\n",
      "1.0 0.0\n",
      "1.8935546875 1.4741912046769161\n"
     ]
    }
   ],
   "source": [
    "import tensorflow as tf\n",
    "\n",
    "test_model = False\n",
    "\n",
    "print(data.shape, targets.shape)\n",
    "\n",
    "print(np.max(data), np.min(data))\n",
    "print(np.mean(targets), np.std(targets))\n",
    "\n",
    "if test_model:\n",
    "    model_name = \"models/model_dense_5000_simple_\" + mode\n",
    "    model = tf.keras.models.load_model(model_name + \".h5\")\n",
    "    predictions = tf.argmax(model.predict(data), axis = 1)\n",
    "    predictions = np.array(predictions)\n",
    "    print(\"Accuracy: \", np.mean(predictions == targets))\n",
    "\n"
   ]
  },
  {
   "cell_type": "code",
   "execution_count": 7,
   "id": "cca02023",
   "metadata": {},
   "outputs": [
    {
     "data": {
      "application/vnd.jupyter.widget-view+json": {
       "model_id": "d8321ab6175d4359b2d95a9e9bcd5edd",
       "version_major": 2,
       "version_minor": 0
      },
      "text/plain": [
       "interactive(children=(IntSlider(value=0, description='step', max=63), IntSlider(value=0, description='sample_c…"
      ]
     },
     "metadata": {},
     "output_type": "display_data"
    }
   ],
   "source": [
    "sample_inds = np.insert(np.cumsum(pt_cnts), 0, 0)\n",
    "\n",
    "sample_size_px = 480\n",
    "FOV_edge = sample_size_px / 2 - res / 2\n",
    "\n",
    "def plot_step_fast(step, sample_cur):    \n",
    "    imgs = data[sample_cur]\n",
    "    \n",
    "    begin = sample_inds[sample_cur]\n",
    "    end = begin + pt_cnts[sample_cur]\n",
    "    \n",
    "    poss_step = step % poss.shape[0]\n",
    "    \n",
    "    x = poss[poss_step, begin:end, 1]\n",
    "    y = poss[poss_step, begin:end, 0]\n",
    "    \n",
    "    plt.subplot(1, 2, 1)\n",
    "    plt.axis([-FOV_edge, sample_size_px-FOV_edge, -FOV_edge, sample_size_px-FOV_edge])\n",
    "    plt.gca().add_patch(Rectangle((0, 0), res, res, edgecolor = 'red', fill=False))\n",
    "    plt.gca().set_aspect('equal', adjustable='box')\n",
    "    plt.scatter(x,y)\n",
    "    \n",
    "    plt.subplot(1, 2, 2)\n",
    "    plt.imshow(imgs[step, :, :])\n",
    "    plt.axis([-0.5, res-0.5, -0.5, res-0.5])\n",
    "    plt.scatter(x,y, c=\"red\")\n",
    "    plt.title(\"data\")\n",
    "    plt.show()\n",
    "    \n",
    "    print(\"gold:\", targets[sample_cur])\n",
    "    if test_model:\n",
    "        print(\"pred:\", int(predictions[sample_cur]))\n",
    "\n",
    "\n",
    "    \n",
    "interact(plot_step_fast, step=IntSlider(min=0, max=data.shape[1] - 1), sample_cur=IntSlider(min=0, max=data.shape[0] - 1));"
   ]
  },
  {
   "cell_type": "code",
   "execution_count": null,
   "id": "b2050760",
   "metadata": {},
   "outputs": [],
   "source": []
  }
 ],
 "metadata": {
  "kernelspec": {
   "display_name": "Python 3 (ipykernel)",
   "language": "python",
   "name": "python3"
  },
  "language_info": {
   "codemirror_mode": {
    "name": "ipython",
    "version": 3
   },
   "file_extension": ".py",
   "mimetype": "text/x-python",
   "name": "python",
   "nbconvert_exporter": "python",
   "pygments_lexer": "ipython3",
   "version": "3.9.16"
  }
 },
 "nbformat": 4,
 "nbformat_minor": 5
}
