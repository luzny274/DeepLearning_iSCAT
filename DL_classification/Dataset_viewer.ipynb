{
 "cells": [
  {
   "cell_type": "code",
   "execution_count": 1,
   "id": "4962ed78",
   "metadata": {},
   "outputs": [
    {
     "name": "stdout",
     "output_type": "stream",
     "text": [
      "Sample width:  480\n",
      "Run\n",
      "Particle generation time: 0.081s\n",
      "Sparse Subpixel Convolution initialized\n",
      "Preparation of memory took 1623 ms\n",
      "\n",
      "OMP max threads: 64\n",
      "OMP setting number of threads to 10\n",
      "Conv generation time: 0.122s\n",
      "Target generation time: 0.007s\n",
      "Whole generation time: 0.219s\n",
      "Computation of convolutions took 110 ms\n",
      "Run\n",
      "Particle generation time: 0.085s\n",
      "Min particle in sight cnt: 0\n",
      "Max particle in sight cnt: 4\n",
      "Avg particle in sight cnt: 1.953125\n",
      "Std particle in sight cnt: 1.5096531834746019\n",
      "class: 0     |1     |2     |3     |4     |\n",
      "count: 241   |216   |170   |144   |253   |\n",
      "\n",
      "OMP max threads: 10\n",
      "OMP setting number of threads to 10\n",
      "Conv generation time: 0.128s\n",
      "Target generation time: 0.006s\n",
      "Whole generation time: 0.227s\n",
      "Computation of convolutions took 117 ms\n",
      "Die\n"
     ]
    }
   ],
   "source": [
    "import os\n",
    "import matplotlib.pylab as plt\n",
    "from matplotlib.patches import Rectangle\n",
    "import numpy as np\n",
    "\n",
    "\n",
    "from ipywidgets import Layout, interact, IntSlider, FloatSlider\n",
    "os.environ.setdefault(\"TF_CPP_MIN_LOG_LEVEL\", \"2\")  # Report only TF errors by default\n",
    "\n",
    "import DL_Sequence\n",
    "\n",
    "num_classes = 5\n",
    "res = 32\n",
    "\n",
    "mode = \"static\"\n",
    "\n",
    "dataset = DL_Sequence.iSCAT_DataGenerator(batch_size=4, epoch_size=1024, res=res, frames=32, thread_count=10,\n",
    "                    PSF_path=\"../PSF_subpx_fl32.npy\", exD=5000, devD=4000, exPT_cnt=500, devPT_cnt=499, exIntensity=1.0, devIntensity=0.3, target_frame=15,\n",
    "                    num_classes=num_classes, verbose = 2, noise_func = None, mode = mode)\n",
    "\n",
    "data = dataset.samples\n",
    "targets = dataset.particles_in_sight_cnt\n",
    "poss = dataset.particle_positions\n",
    "pt_cnts = dataset.pt_cnts\n",
    "dataset.destroy()\n"
   ]
  },
  {
   "cell_type": "code",
   "execution_count": 2,
   "id": "e26d608d",
   "metadata": {},
   "outputs": [
    {
     "name": "stdout",
     "output_type": "stream",
     "text": [
      "WARNING:tensorflow:No training configuration found in the save file, so the model was *not* compiled. Compile it manually.\n",
      "32/32 [==============================] - 1s 2ms/step\n",
      "(1024, 32, 32, 32) (1024,)\n",
      "1.0 0.0\n",
      "1.953125 1.5096531834746019\n",
      "Accuracy:  0.4306640625\n"
     ]
    }
   ],
   "source": [
    "import tensorflow as tf\n",
    "\n",
    "model_name = \"models/model_dense_5000_simple_\" + mode\n",
    "model = tf.keras.models.load_model(model_name + \".h5\")\n",
    "predictions = tf.argmax(model.predict(data), axis = 1)\n",
    "predictions = np.array(predictions)\n",
    "\n",
    "print(data.shape, targets.shape)\n",
    "\n",
    "print(np.max(data), np.min(data))\n",
    "print(np.mean(targets), np.std(targets))\n",
    "\n",
    "print(\"Accuracy: \", np.mean(predictions == targets))"
   ]
  },
  {
   "cell_type": "code",
   "execution_count": 3,
   "id": "cca02023",
   "metadata": {},
   "outputs": [
    {
     "data": {
      "application/vnd.jupyter.widget-view+json": {
       "model_id": "741dc372379c44fab0740e0c0caa8a42",
       "version_major": 2,
       "version_minor": 0
      },
      "text/plain": [
       "interactive(children=(IntSlider(value=0, description='step', max=31), IntSlider(value=0, description='sample_c…"
      ]
     },
     "metadata": {},
     "output_type": "display_data"
    }
   ],
   "source": [
    "sample_inds = np.insert(np.cumsum(pt_cnts), 0, 0)\n",
    "\n",
    "sample_size_px = 480\n",
    "FOV_edge = sample_size_px / 2 - res / 2\n",
    "\n",
    "def plot_step_fast(step, sample_cur):    \n",
    "    imgs = data[sample_cur]\n",
    "    \n",
    "    begin = sample_inds[sample_cur]\n",
    "    end = begin + pt_cnts[sample_cur]\n",
    "    \n",
    "    poss_step = step % poss.shape[0]\n",
    "    \n",
    "    x = poss[poss_step, begin:end, 1]\n",
    "    y = poss[poss_step, begin:end, 0]\n",
    "    \n",
    "    plt.subplot(1, 2, 1)\n",
    "    plt.axis([-FOV_edge, sample_size_px-FOV_edge, -FOV_edge, sample_size_px-FOV_edge])\n",
    "    plt.gca().add_patch(Rectangle((0, 0), res, res, edgecolor = 'red', fill=False))\n",
    "    plt.gca().set_aspect('equal', adjustable='box')\n",
    "    plt.scatter(x,y)\n",
    "    \n",
    "    plt.subplot(1, 2, 2)\n",
    "    plt.imshow(imgs[step, :, :])\n",
    "    plt.axis([-0.5, res-0.5, -0.5, res-0.5])\n",
    "    plt.scatter(x,y, c=\"red\")\n",
    "    plt.title(\"data\")\n",
    "    plt.show()\n",
    "    \n",
    "    print(\"gold:\", targets[sample_cur])\n",
    "    print(\"pred:\", int(predictions[sample_cur]))\n",
    "\n",
    "\n",
    "    \n",
    "interact(plot_step_fast, step=IntSlider(min=0, max=data.shape[1] - 1), sample_cur=IntSlider(min=0, max=data.shape[0] - 1));"
   ]
  },
  {
   "cell_type": "code",
   "execution_count": null,
   "id": "b2050760",
   "metadata": {},
   "outputs": [],
   "source": []
  }
 ],
 "metadata": {
  "kernelspec": {
   "display_name": "Python 3 (ipykernel)",
   "language": "python",
   "name": "python3"
  },
  "language_info": {
   "codemirror_mode": {
    "name": "ipython",
    "version": 3
   },
   "file_extension": ".py",
   "mimetype": "text/x-python",
   "name": "python",
   "nbconvert_exporter": "python",
   "pygments_lexer": "ipython3",
   "version": "3.9.16"
  }
 },
 "nbformat": 4,
 "nbformat_minor": 5
}
