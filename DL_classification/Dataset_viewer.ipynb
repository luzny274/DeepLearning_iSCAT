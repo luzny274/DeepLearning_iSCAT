{
 "cells": [
  {
   "cell_type": "code",
   "execution_count": 1,
   "id": "4962ed78",
   "metadata": {},
   "outputs": [
    {
     "name": "stdout",
     "output_type": "stream",
     "text": [
      "Sample width:  448\n",
      "particlesWorker: Run\n",
      "Sparse Subpixel Convolution initialized\n",
      "Preparation of memory took 6 ms\n",
      "Particle generation time: 11.034s\n",
      "sampleWorker:particlesWorker:  RunRun\n",
      "\n",
      "\n",
      "OMP max threads: 24\n",
      "OMP setting number of threads to 16\n",
      "Particle generation time: 13.565s\n",
      "Conv generation time: 29.178s\n",
      "Computation of convolutions took 25457 ms\n",
      "Target generation time: 0.078s\n",
      "Whole generation time: 37.892s\n",
      "sampleWorker:particlesWorker:Min particle in sight cnt: 0\n",
      "Max particle in sight cnt: 7\n",
      "Avg particle in sight cnt: 3.3182373046875\n",
      "Std particle in sight cnt: 2.166905154267887\n",
      "class: 0     |1     |2     |3     |4     |5     |6     |7     |\n",
      "count: 1536  |2464  |2691  |2477  |2199  |1765  |1296  |1956  |\n",
      "  DieDie\n",
      "\n"
     ]
    }
   ],
   "source": [
    "import os\n",
    "import matplotlib.pylab as plt\n",
    "from matplotlib.patches import Rectangle\n",
    "import numpy as np\n",
    "\n",
    "\n",
    "from ipywidgets import Layout, interact, IntSlider, FloatSlider\n",
    "os.environ.setdefault(\"TF_CPP_MIN_LOG_LEVEL\", \"2\")  # Report only TF errors by default\n",
    "\n",
    "import DL_Sequence\n",
    "import iSCAT_Datasets\n",
    "\n",
    "# num_classes = 5\n",
    "# res = 256\n",
    "# exPT_cnt = 10\n",
    "# devPT_cnt = 0\n",
    "# exIntensity=1.0\n",
    "# devIntensity=0.0\n",
    "\n",
    "# mode = \"static\"\n",
    "# PSF_path=\"../PSF_subpx_fl32.npy\"\n",
    "# PSF = np.load(PSF_path)\n",
    "\n",
    "# dataset = DL_Sequence.iSCAT_DataGenerator(batch_size=32, epoch_size=128, res=res, frames=64, thread_count=40,\n",
    "#                     PSF_path=PSF_path, exD=5000, devD=4000, exPT_cnt=exPT_cnt, devPT_cnt=devPT_cnt, exIntensity=exIntensity, devIntensity=devIntensity, target_frame=15,\n",
    "#                     num_classes=num_classes, verbose = 2, noise_func = None, mode = mode)\n",
    "\n",
    "epoch_size = 16384\n",
    "batch_size = 32\n",
    "num_classes, frames, res, dataset = iSCAT_Datasets.getDatasetGen(0, epoch_size, batch_size, verbose=2, regen=False)\n",
    "\n",
    "data = dataset.samples\n",
    "targets = dataset.particles_in_sight_cnt\n",
    "poss = dataset.particle_positions\n",
    "pt_cnts = dataset.pt_cnts\n",
    "dataset.destroy()\n",
    "\n"
   ]
  },
  {
   "cell_type": "code",
   "execution_count": 2,
   "id": "d6a4371f",
   "metadata": {},
   "outputs": [
    {
     "ename": "NameError",
     "evalue": "name 'PSF' is not defined",
     "output_type": "error",
     "traceback": [
      "\u001b[0;31m---------------------------------------------------------------------------\u001b[0m",
      "\u001b[0;31mNameError\u001b[0m                                 Traceback (most recent call last)",
      "Cell \u001b[0;32mIn[2], line 1\u001b[0m\n\u001b[0;32m----> 1\u001b[0m edge \u001b[38;5;241m=\u001b[39m \u001b[38;5;28mint\u001b[39m((\u001b[43mPSF\u001b[49m\u001b[38;5;241m.\u001b[39mshape[\u001b[38;5;241m2\u001b[39m] \u001b[38;5;241m-\u001b[39m res) \u001b[38;5;241m/\u001b[39m \u001b[38;5;241m2\u001b[39m)\n\u001b[1;32m      2\u001b[0m plt\u001b[38;5;241m.\u001b[39mimshow(PSF[\u001b[38;5;241m0\u001b[39m, \u001b[38;5;241m0\u001b[39m, edge:\u001b[38;5;241m-\u001b[39medge, edge:\u001b[38;5;241m-\u001b[39medge])\n\u001b[1;32m      3\u001b[0m plt\u001b[38;5;241m.\u001b[39maxis([\u001b[38;5;241m-\u001b[39m\u001b[38;5;241m0.5\u001b[39m, res\u001b[38;5;241m-\u001b[39m\u001b[38;5;241m0.5\u001b[39m, \u001b[38;5;241m-\u001b[39m\u001b[38;5;241m0.5\u001b[39m, res\u001b[38;5;241m-\u001b[39m\u001b[38;5;241m0.5\u001b[39m])\n",
      "\u001b[0;31mNameError\u001b[0m: name 'PSF' is not defined"
     ]
    }
   ],
   "source": [
    "edge = int((PSF.shape[2] - res) / 2)\n",
    "plt.imshow(PSF[0, 0, edge:-edge, edge:-edge])\n",
    "plt.axis([-0.5, res-0.5, -0.5, res-0.5])\n",
    "plt.title(\"Point Spread Function\")\n",
    "plt.show()\n",
    "\n",
    "sample_inds = np.insert(np.cumsum(pt_cnts), 0, 0)\n",
    "\n",
    "sample_cur = 0\n",
    "step = 0\n",
    "\n",
    "sample_size_px = 256\n",
    "FOV_edge = sample_size_px / 2 - res / 2\n",
    " \n",
    "imgs = data[sample_cur]\n",
    "\n",
    "begin = sample_inds[sample_cur]\n",
    "end = begin + pt_cnts[sample_cur]\n",
    "\n",
    "x = poss[step, begin:end, 1]\n",
    "y = poss[step, begin:end, 0]\n",
    "\n",
    "\n",
    "# plt.imshow(imgs[step, :, :])\n",
    "plt.gca().set_aspect('equal')\n",
    "plt.axis([-0.5, res-0.5, -0.5, res-0.5])\n",
    "plt.scatter(x,y, c=\"red\")\n",
    "plt.title(\"Scattering intensity map\")\n",
    "plt.show()\n",
    "\n",
    "plt.gca().set_aspect('equal')\n",
    "plt.axis([-0.5, res-0.5, -0.5, res-0.5])\n",
    "plt.imshow(data[sample_cur, step])\n",
    "plt.title(\"Image in the microscope\")\n",
    "plt.show()"
   ]
  },
  {
   "cell_type": "code",
   "execution_count": 2,
   "id": "e26d608d",
   "metadata": {},
   "outputs": [
    {
     "name": "stdout",
     "output_type": "stream",
     "text": [
      "(16384, 32, 64, 64) (16384,)\n",
      "1.0 0.0\n",
      "3.3182373046875 2.166905154267887\n",
      "(array([  376,   806,  1223,  1261,  1451,  1769,  2799,  3160,  3630,\n",
      "        4217,  4268,  4293,  5021,  5035,  6584,  6673,  7017,  7018,\n",
      "        7274,  7299,  7420,  7939,  8688,  8726,  9388, 10548, 10728,\n",
      "       10966, 12017, 12293, 12359, 12531, 12742, 12887, 13612, 13831,\n",
      "       13986, 14037, 14109, 14450, 14978, 15052, 15078, 15143, 15343,\n",
      "       15568, 16132, 16374]),)\n",
      "(array([  132,   358,   493,   548,   627,  1216,  1293,  1834,  2505,\n",
      "        2951,  3247,  3711,  4033,  4208,  4501,  4844,  5174,  6115,\n",
      "        6272,  6760,  7504,  8014,  8582,  8769,  9433, 10065, 10416,\n",
      "       10418, 11863, 11995, 12142, 12239, 12378, 12477, 12542, 12911,\n",
      "       13490, 14567, 14831, 15004, 15293, 15602, 15713]),)\n",
      "(array([    4,   455,   673,  1099,  1104,  1268,  1560,  1578,  2209,\n",
      "        2344,  2455,  2591,  2701,  2708,  2914,  3055,  3315,  3598,\n",
      "        3663,  3804,  4198,  4796,  4808,  5598,  5786,  5952,  6015,\n",
      "        6268,  6458,  7630,  7977,  8000,  8072,  8988,  9645,  9715,\n",
      "       10013, 10027, 10543, 10604, 11283, 11508, 11713, 12445, 13297,\n",
      "       15111, 15157, 15606, 16006, 16036, 16055, 16179]),)\n"
     ]
    }
   ],
   "source": [
    "import tensorflow as tf\n",
    "\n",
    "test_model = False\n",
    "\n",
    "print(data.shape, targets.shape)\n",
    "\n",
    "print(np.max(data), np.min(data))\n",
    "print(np.mean(targets), np.std(targets))\n",
    "\n",
    "if test_model:\n",
    "    model_name = \"models/model_dense_5000_simple_\" + mode\n",
    "    model = tf.keras.models.load_model(model_name + \".h5\")\n",
    "    predictions = tf.argmax(model.predict(data), axis = 1)\n",
    "    predictions = np.array(predictions)\n",
    "    print(\"Accuracy: \", np.mean(predictions == targets))\n",
    "\n",
    "print(np.nonzero(pt_cnts == 30))\n",
    "print(np.nonzero(pt_cnts == 170))\n",
    "print(np.nonzero(pt_cnts == 309))"
   ]
  },
  {
   "cell_type": "code",
   "execution_count": 21,
   "id": "cca02023",
   "metadata": {},
   "outputs": [],
   "source": [
    "sample_inds = np.insert(np.cumsum(pt_cnts), 0, 0)\n",
    "\n",
    "sample_size_px = 480\n",
    "FOV_edge = sample_size_px / 2 - res / 2\n",
    "\n",
    "def plot_step_fast(step, sample_cur):    \n",
    "    imgs = data[sample_cur]\n",
    "    \n",
    "    begin = sample_inds[sample_cur]\n",
    "    end = begin + pt_cnts[sample_cur]\n",
    "    \n",
    "    poss_step = step % poss.shape[0]\n",
    "    \n",
    "    x = poss[poss_step, begin:end, 1]\n",
    "    y = poss[poss_step, begin:end, 0]\n",
    "    \n",
    "#     plt.subplot(1, 2, 1)\n",
    "    plt.axis([-FOV_edge, sample_size_px-FOV_edge, -FOV_edge, sample_size_px-FOV_edge])\n",
    "    plt.gca().add_patch(Rectangle((0, 0), res, res, edgecolor = 'red', fill=False))\n",
    "    plt.gca().set_aspect('equal', adjustable='box')\n",
    "    plt.scatter(x,y)\n",
    "    plt.title(\"Sample\")\n",
    "    plt.show()\n",
    "    \n",
    "#     plt.subplot(1, 2, 2)\n",
    "    plt.imshow(imgs[step, :, :])\n",
    "    plt.axis([-0.5, res-0.5, -0.5, res-0.5])\n",
    "    plt.scatter(x,y, c=\"red\")\n",
    "    plt.title(\"Camera frame\")\n",
    "    plt.show()\n",
    "    \n",
    "    print(\"gold:\", targets[sample_cur])\n",
    "    print(\"sample cnt:\", pt_cnts[sample_cur])\n",
    "    if test_model:\n",
    "        print(\"pred:\", int(predictions[sample_cur]))\n",
    "\n",
    "\n",
    "    \n",
    "interact(plot_step_fast, step=IntSlider(value=15, min=0, max=data.shape[1] - 1), sample_cur=IntSlider(value=1549, min=0, max=data.shape[0] - 1));"
   ]
  },
  {
   "cell_type": "code",
   "execution_count": 35,
   "id": "b2050760",
   "metadata": {},
   "outputs": [
    {
     "data": {
      "image/png": "[encoded data removed]",
      "text/plain": [
       "<Figure size 640x480 with 1 Axes>"
      ]
     },
     "metadata": {},
     "output_type": "display_data"
    },
    {
     "data": {
      "image/png": "[encoded data removed]",
      "text/plain": [
       "<Figure size 640x480 with 1 Axes>"
      ]
     },
     "metadata": {},
     "output_type": "display_data"
    },
    {
     "name": "stdout",
     "output_type": "stream",
     "text": [
      "gold: 6\n",
      "sample cnt: 170\n"
     ]
    }
   ],
   "source": [
    "sample_inds = np.insert(np.cumsum(pt_cnts), 0, 0)\n",
    "\n",
    "sample_size_px = 480\n",
    "FOV_edge = sample_size_px / 2 - res / 2\n",
    "\n",
    "sample_cur = 548 #1578, 2701, 3598\n",
    "step = 0\n",
    "imgs = data[sample_cur]\n",
    "\n",
    "begin = sample_inds[sample_cur]\n",
    "end = begin + pt_cnts[sample_cur]\n",
    "\n",
    "poss_step = step % poss.shape[0]\n",
    "\n",
    "x = poss[poss_step, begin:end, 1]\n",
    "y = poss[poss_step, begin:end, 0]\n",
    "\n",
    "#     plt.subplot(1, 2, 1)\n",
    "plt.axis([-FOV_edge, sample_size_px-FOV_edge, -FOV_edge, sample_size_px-FOV_edge])\n",
    "plt.gca().add_patch(Rectangle((0, 0), res, res, edgecolor = 'red', fill=False))\n",
    "plt.gca().set_aspect('equal', adjustable='box')\n",
    "plt.scatter(x,y)\n",
    "# plt.title(\"Sample\")\n",
    "plt.show()\n",
    "\n",
    "#     plt.subplot(1, 2, 2)\n",
    "plt.imshow(imgs[step, :, :])\n",
    "plt.axis([-0.5, res-0.5, -0.5, res-0.5])\n",
    "plt.scatter(x,y, c=\"red\")\n",
    "# plt.title(\"Camera frame\")\n",
    "plt.show()\n",
    "\n",
    "print(\"gold:\", targets[sample_cur])\n",
    "print(\"sample cnt:\", pt_cnts[sample_cur])\n",
    "if test_model:\n",
    "    print(\"pred:\", int(predictions[sample_cur]))\n"
   ]
  },
  {
   "cell_type": "code",
   "execution_count": null,
   "id": "6514362f",
   "metadata": {},
   "outputs": [],
   "source": []
  }
 ],
 "metadata": {
  "kernelspec": {
   "display_name": "Python 3 (ipykernel)",
   "language": "python",
   "name": "python3"
  },
  "language_info": {
   "codemirror_mode": {
    "name": "ipython",
    "version": 3
   },
   "file_extension": ".py",
   "mimetype": "text/x-python",
   "name": "python",
   "nbconvert_exporter": "python",
   "pygments_lexer": "ipython3",
   "version": "3.9.16"
  }
 },
 "nbformat": 4,
 "nbformat_minor": 5
}
