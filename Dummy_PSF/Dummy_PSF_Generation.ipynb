{
 "cells": [
  {
   "cell_type": "code",
   "execution_count": 1,
   "id": "ffe18323",
   "metadata": {
    "tags": []
   },
   "outputs": [],
   "source": [
    "\n",
    "#imports\n",
    "\n",
    "import numpy as np\n",
    "import matplotlib.pylab as plt\n",
    "from ipywidgets import Layout, interact, IntSlider\n",
    "import time\n",
    "\n",
    "\n",
    "nanometers_per_pixel = 46\n",
    "\n",
    "psf_peak_pixel_size = 32\n",
    "\n",
    "#PSF consts\n",
    "\n",
    "res = 512\n",
    "subpixels = 64\n",
    "\n",
    "my_psf_res = res * subpixels + 1\n",
    "\n",
    "#sin(x)/x\n",
    "extreme = 4.49340945790906\n",
    "my_psf_min = np.sin(extreme) / extreme\n",
    "\n",
    "my_psf_peak_px = 9 #2.0 * extreme\n",
    "\n",
    "\n",
    "my_psf_range = my_psf_peak_px / psf_peak_pixel_size * my_psf_res / 2.0 / subpixels\n",
    "\n",
    "xs = np.linspace(-my_psf_range, my_psf_range, my_psf_res, dtype=np.longdouble)\n",
    "\n",
    "def my_psf(x):\n",
    "    return((np.sin(x, dtype=np.longdouble) / x) - my_psf_min) / (1.0 - my_psf_min)\n"
   ]
  },
  {
   "cell_type": "code",
   "execution_count": null,
   "id": "977a4a7f",
   "metadata": {
    "tags": []
   },
   "outputs": [
    {
     "name": "stdout",
     "output_type": "stream",
     "text": [
      "Dtype precision: 8 bytes\n",
      "4690\r"
     ]
    }
   ],
   "source": [
    "#PSF generation\n",
    "\n",
    "startTime = time.time()\n",
    "\n",
    "my_psf_img = np.zeros((my_psf_res, my_psf_res), dtype=np.longdouble)\n",
    "print(\"Dtype precision: \" + str(np.dtype(np.longdouble).itemsize) + \" bytes\")\n",
    "\n",
    "for x in range(my_psf_res):\n",
    "    print(str(x), end = '\\r')\n",
    "    for y in range(my_psf_res):\n",
    "        vzd = xs[x] ** 2 + xs[y] ** 2\n",
    "        if vzd == 0:\n",
    "            my_psf_img[x, y] = 1.0\n",
    "        else:            \n",
    "            my_psf_img[x, y] = my_psf(np.sqrt(vzd))\n",
    "\n",
    "#Segment PSF\n",
    "PSF_offs = np.zeros((subpixels, subpixels, res, res))\n",
    "                    \n",
    "                    \n",
    "for offx in range(subpixels):\n",
    "    for offy in range(subpixels):\n",
    "        PSF_offs[offy, offx, :, :] = my_psf_img[offy:-1:subpixels,offx:-1:subpixels]\n",
    "                    \n",
    "np.save(\"PSF_subpx.npy\", PSF_offs)\n",
    "            \n",
    "executionTime = (time.time() - startTime)\n",
    "print(\"Done in \" + str(executionTime) + \" s\")\n",
    "\n",
    "def plot_step(offx, offy):\n",
    "    plt.imshow(PSF_offs[offy, offx, :, :])\n",
    "    plt.show()\n",
    "    \n",
    "    \n",
    "interact(plot_step, offx=IntSlider(min=0, max=subpixels - 1), offy=IntSlider(min=0, max=subpixels-1));"
   ]
  },
  {
   "cell_type": "code",
   "execution_count": 3,
   "id": "a1054f52",
   "metadata": {
    "tags": []
   },
   "outputs": [],
   "source": [
    "#Save in 32bit precision\n",
    "np.save(\"PSF_subpx_fl32.npy\", PSF_offs.astype(np.float32))"
   ]
  },
  {
   "cell_type": "code",
   "execution_count": 2,
   "id": "0d44b70c",
   "metadata": {},
   "outputs": [],
   "source": [
    "#Load\n",
    "PSF_offs = np.load(\"PSF_subpx_fl32.npy\")"
   ]
  },
  {
   "cell_type": "code",
   "execution_count": 4,
   "id": "20b54322",
   "metadata": {},
   "outputs": [
    {
     "name": "stdout",
     "output_type": "stream",
     "text": [
      "0 4\n"
     ]
    },
    {
     "data": {
      "image/png": "[encoded data removed]",
      "text/plain": [
       "<Figure size 640x480 with 1 Axes>"
      ]
     },
     "metadata": {},
     "output_type": "display_data"
    }
   ],
   "source": [
    "#Zoomed in plot\n",
    "width = 6\n",
    "def zoomed_plot_step(offx, offy):\n",
    "    print(offx, offy)\n",
    "    \n",
    "    subx = int(offx % subpixels)\n",
    "    suby = int(offy % subpixels)\n",
    "    ofpx = int(offx / subpixels)\n",
    "    ofpy = int(offy / subpixels)\n",
    "    \n",
    "    w1 = int(res/2 - width/2)\n",
    "    w2 = int(res/2 + width/2)\n",
    "    \n",
    "    \n",
    "    plt.imshow(PSF_offs[suby, subx, w1 + ofpy:w2 + ofpy, w1 + ofpx:w2 + ofpx])\n",
    "    plt.show()\n",
    "    \n",
    "    \n",
    "interact(zoomed_plot_step, offx=IntSlider(min=0, max=subpixels * 2), offy=IntSlider(min=0, max=subpixels * 2));"
   ]
  },
  {
   "cell_type": "code",
   "execution_count": null,
   "id": "deba67d6",
   "metadata": {},
   "outputs": [],
   "source": []
  }
 ],
 "metadata": {
  "kernelspec": {
   "display_name": "Python 3 (ipykernel)",
   "language": "python",
   "name": "python3"
  },
  "language_info": {
   "codemirror_mode": {
    "name": "ipython",
    "version": 3
   },
   "file_extension": ".py",
   "mimetype": "text/x-python",
   "name": "python",
   "nbconvert_exporter": "python",
   "pygments_lexer": "ipython3",
   "version": "3.9.16"
  }
 },
 "nbformat": 4,
 "nbformat_minor": 5
}
