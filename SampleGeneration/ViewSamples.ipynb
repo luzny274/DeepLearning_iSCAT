{
 "cells": [
  {
   "cell_type": "code",
   "execution_count": 1,
   "id": "c72d7369",
   "metadata": {},
   "outputs": [
    {
     "name": "stdout",
     "output_type": "stream",
     "text": [
      "Sparse_Subpixel_Convolution module initialized!\n",
      "Sample width:  480\n"
     ]
    }
   ],
   "source": [
    "import DL_SampleGeneration\n",
    "\n",
    "import time\n",
    "import numpy as np\n",
    "from PIL import Image\n",
    "import matplotlib.pylab as plt\n",
    "from matplotlib.patches import Rectangle\n",
    "\n",
    "from ipywidgets import Layout, interact, IntSlider, FloatSlider\n",
    "\n",
    "gen = DL_SampleGeneration.SampleGenerator()\n",
    "\n",
    "exD = 5000\n",
    "devD = 2500\n",
    "\n",
    "exPT_cnt = 1000\n",
    "devPT_cnt = 999\n",
    "\n",
    "sample_cnt = 1000\n",
    "\n",
    "exIntensity = 1.0\n",
    "devIntensity = 0.7\n"
   ]
  },
  {
   "cell_type": "code",
   "execution_count": 2,
   "id": "b3c6be6d",
   "metadata": {},
   "outputs": [
    {
     "name": "stdout",
     "output_type": "stream",
     "text": [
      "Sample generation took: 13.457 s\n"
     ]
    }
   ],
   "source": [
    "start = time.time()\n",
    "samples, particle_positions, diffusion_coefs, pt_cnts, particles_in_sight_cnt, avg_diffusions = gen.GenSamples(exD, devD, exPT_cnt, devPT_cnt, sample_cnt, exIntensity, devIntensity, gen.step_cnt-1)\n",
    "print(\"Sample generation took: {:.3f} s\".format(time.time() - start))\n",
    "\n",
    "np.savez(\"data.npz\", samples, particle_positions, diffusion_coefs, pt_cnts, particles_in_sight_cnt, avg_diffusions)"
   ]
  },
  {
   "cell_type": "code",
   "execution_count": 3,
   "id": "da56b968",
   "metadata": {},
   "outputs": [
    {
     "name": "stdout",
     "output_type": "stream",
     "text": [
      "(1000, 32, 32, 32)\n"
     ]
    },
    {
     "data": {
      "application/vnd.jupyter.widget-view+json": {
       "model_id": "a2da1b39d1054df090f7be7191f592e7",
       "version_major": 2,
       "version_minor": 0
      },
      "text/plain": [
       "interactive(children=(IntSlider(value=0, description='step', layout=Layout(width='100%'), max=31), IntSlider(v…"
      ]
     },
     "metadata": {},
     "output_type": "display_data"
    }
   ],
   "source": [
    "data = np.load(\"data.npz\")\n",
    "samples                = data[\"arr_0\"]\n",
    "particle_positions     = data[\"arr_1\"]\n",
    "diffusion_coefs        = data[\"arr_2\"]\n",
    "pt_cnts                = data[\"arr_3\"]\n",
    "particles_in_sight_cnt = data[\"arr_4\"]\n",
    "avg_diffusions         = data[\"arr_5\"]\n",
    "\n",
    "sample_inds = np.insert(np.cumsum(pt_cnts), 0, 0)\n",
    "\n",
    "def plot_step(step, sample_cur):\n",
    "    \n",
    "    begin = sample_inds[sample_cur]\n",
    "    end = begin + pt_cnts[sample_cur]\n",
    "    \n",
    "    x = particle_positions[step, begin:end, 1]\n",
    "    y = particle_positions[step, begin:end, 0]\n",
    "    \n",
    "    plt.subplot(1, 2, 1)\n",
    "    plt.axis([-gen.FOV_edge, gen.sample_sz_px-gen.FOV_edge, -gen.FOV_edge, gen.sample_sz_px-gen.FOV_edge])\n",
    "    plt.gca().add_patch(Rectangle((0, 0), gen.cam_fov_px, gen.cam_fov_px, edgecolor = 'red', fill=False))\n",
    "    plt.gca().set_aspect('equal', adjustable='box')\n",
    "    plt.scatter(x,y)\n",
    "    \n",
    "    imgs = samples[sample_cur]\n",
    "    plt.subplot(1, 2, 2)\n",
    "    plt.imshow(imgs[step, :, :])\n",
    "    plt.axis([-0.5, gen.cam_fov_px-0.5, -0.5, gen.cam_fov_px-0.5])\n",
    "    plt.scatter(x,y, c=\"red\")\n",
    "    plt.show()\n",
    "    \n",
    "    print(particles_in_sight_cnt[sample_cur], avg_diffusions[sample_cur])\n",
    "#     print(imgs[step, :, :].min(), imgs[step, :, :].max())\n",
    "    \n",
    "\n",
    "\n",
    "    \n",
    "interact(plot_step, step=IntSlider(min=0, max=gen.step_cnt - 1, layout=Layout(width='100%')), sample_cur=IntSlider(min=0, max=sample_cnt - 1, layout=Layout(width='100%')));"
   ]
  },
  {
   "cell_type": "code",
   "execution_count": null,
   "id": "aee39252",
   "metadata": {},
   "outputs": [],
   "source": []
  }
 ],
 "metadata": {
  "kernelspec": {
   "display_name": "Python 3 (ipykernel)",
   "language": "python",
   "name": "python3"
  },
  "language_info": {
   "codemirror_mode": {
    "name": "ipython",
    "version": 3
   },
   "file_extension": ".py",
   "mimetype": "text/x-python",
   "name": "python",
   "nbconvert_exporter": "python",
   "pygments_lexer": "ipython3",
   "version": "3.9.16"
  }
 },
 "nbformat": 4,
 "nbformat_minor": 5
}
