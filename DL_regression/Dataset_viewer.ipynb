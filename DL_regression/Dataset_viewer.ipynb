{
 "cells": [
  {
   "cell_type": "code",
   "execution_count": 1,
   "id": "4962ed78",
   "metadata": {},
   "outputs": [
    {
     "name": "stdout",
     "output_type": "stream",
     "text": [
      "Sample width: Sparse Subpixel Convolution initialized\n",
      "Preparation of memory took 4 ms\n",
      " 480\n",
      "Epoch ended\n"
     ]
    }
   ],
   "source": [
    "import os\n",
    "import matplotlib.pylab as plt\n",
    "from matplotlib.patches import Rectangle\n",
    "import numpy as np\n",
    "\n",
    "from ipywidgets import Layout, interact, IntSlider, FloatSlider\n",
    "os.environ.setdefault(\"TF_CPP_MIN_LOG_LEVEL\", \"2\")  # Report only TF errors by default\n",
    "\n",
    "import DL_Dataset\n",
    "\n",
    "dataset = DL_Dataset.iSCAT_DataGenerator()"
   ]
  },
  {
   "cell_type": "code",
   "execution_count": 2,
   "id": "e26d608d",
   "metadata": {},
   "outputs": [
    {
     "name": "stdout",
     "output_type": "stream",
     "text": [
      "\n",
      "OMP max threads: 24\n",
      "OMP setting number of threads to 10\n",
      "Computation of convolutions took 843 ms\n",
      "(128, 64, 32, 32) (128,)\n",
      "1.0 0.0\n",
      "0.07057839089089085 0.7059349646521464\n"
     ]
    }
   ],
   "source": [
    "data, targets = dataset.__getitem__(0)\n",
    "print(data.shape, targets.shape)\n",
    "\n",
    "print(np.max(data), np.min(data))\n",
    "print(np.mean(targets), np.std(targets))"
   ]
  },
  {
   "cell_type": "code",
   "execution_count": 3,
   "id": "cca02023",
   "metadata": {},
   "outputs": [
    {
     "data": {
      "application/vnd.jupyter.widget-view+json": {
       "model_id": "37658595e8124f35a7cd73f3c58ecae2",
       "version_major": 2,
       "version_minor": 0
      },
      "text/plain": [
       "interactive(children=(IntSlider(value=0, description='step', layout=Layout(width='100%'), max=63), IntSlider(v…"
      ]
     },
     "metadata": {},
     "output_type": "display_data"
    }
   ],
   "source": [
    "def plot_step_fast(step, sample_cur):    \n",
    "    imgs = data[sample_cur]\n",
    "    plt.imshow(imgs[step, :, :])\n",
    "    plt.axis([-0.5, data.shape[2]-0.5, -0.5, data.shape[2]-0.5])\n",
    "    plt.title(\"data\")\n",
    "    plt.show()\n",
    "    print(dataset.pt_cnt_rescale(targets[sample_cur]))\n",
    "\n",
    "\n",
    "    \n",
    "interact(plot_step_fast, step=IntSlider(min=0, max=data.shape[1] - 1, layout=Layout(width='100%')), sample_cur=IntSlider(min=0, max=data.shape[0] - 1, layout=Layout(width='100%')));"
   ]
  },
  {
   "cell_type": "code",
   "execution_count": null,
   "id": "b2050760",
   "metadata": {},
   "outputs": [],
   "source": []
  }
 ],
 "metadata": {
  "kernelspec": {
   "display_name": "Python 3 (ipykernel)",
   "language": "python",
   "name": "python3"
  },
  "language_info": {
   "codemirror_mode": {
    "name": "ipython",
    "version": 3
   },
   "file_extension": ".py",
   "mimetype": "text/x-python",
   "name": "python",
   "nbconvert_exporter": "python",
   "pygments_lexer": "ipython3",
   "version": "3.9.16"
  }
 },
 "nbformat": 4,
 "nbformat_minor": 5
}
