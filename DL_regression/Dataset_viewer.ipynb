{
 "cells": [
  {
   "cell_type": "code",
   "execution_count": 1,
   "id": "4962ed78",
   "metadata": {},
   "outputs": [
    {
     "name": "stdout",
     "output_type": "stream",
     "text": [
      "Sample width:  480\n",
      "Sparse Subpixel Convolution initialized\n",
      "Preparation of memory took 4 ms\n",
      "Particle generation time: 4.153s\n",
      "\n",
      "OMP max threads: 12\n",
      "OMP setting number of threads to 10\n",
      "Computation of convolutions took 2198 ms\n",
      "Conv generation time: 3.920s\n",
      "Target generation time: 0.013s\n",
      "Whole generation time: 8.197s\n",
      "Epoch ended\n"
     ]
    }
   ],
   "source": [
    "import os\n",
    "import matplotlib.pylab as plt\n",
    "from matplotlib.patches import Rectangle\n",
    "import numpy as np\n",
    "\n",
    "from ipywidgets import Layout, interact, IntSlider, FloatSlider\n",
    "os.environ.setdefault(\"TF_CPP_MIN_LOG_LEVEL\", \"2\")  # Report only TF errors by default\n",
    "\n",
    "import DL_Sequence\n",
    "\n",
    "num_classes = 16\n",
    "\n",
    "# dataset = DL_Sequence.iSCAT_DataGenerator()\n",
    "dataset = DL_Sequence.iSCAT_DataGenerator(batch_size=4, epoch_size=2048, res=32, frames=32, thread_count=10,\n",
    "                    PSF_path=\"../PSF_subpx_fl32.npy\", exD=5000, devD=4000, exPT_cnt=1000, devPT_cnt=9, exIntensity=1.0, devIntensity=0.9, target_frame=15,\n",
    "                    num_classes=num_classes)"
   ]
  },
  {
   "cell_type": "code",
   "execution_count": 2,
   "id": "e26d608d",
   "metadata": {},
   "outputs": [
    {
     "name": "stdout",
     "output_type": "stream",
     "text": [
      "(2048, 32, 32, 32) (2048,)\n",
      "1.0 0.0\n",
      "4.42333984375 2.0111947867980677\n"
     ]
    }
   ],
   "source": [
    "data, targets, poss = dataset.epoch_samples, dataset.epoch_particles_in_sight_cnt, dataset.epoch_particle_positions\n",
    "print(data.shape, targets.shape)\n",
    "\n",
    "print(np.max(data), np.min(data))\n",
    "print(np.mean(targets), np.std(targets))"
   ]
  },
  {
   "cell_type": "code",
   "execution_count": 3,
   "id": "cca02023",
   "metadata": {},
   "outputs": [
    {
     "data": {
      "application/vnd.jupyter.widget-view+json": {
       "model_id": "aabcb6434b9d4307a67e1094d36d13a5",
       "version_major": 2,
       "version_minor": 0
      },
      "text/plain": [
       "interactive(children=(IntSlider(value=0, description='step', max=31), IntSlider(value=0, description='sample_c…"
      ]
     },
     "metadata": {},
     "output_type": "display_data"
    }
   ],
   "source": [
    "def plot_step_fast(step, sample_cur):    \n",
    "    imgs = data[sample_cur]\n",
    "    plt.imshow(imgs[step, :, :])\n",
    "    plt.axis([-0.5, data.shape[2]-0.5, -0.5, data.shape[2]-0.5])\n",
    "    plt.title(\"data\")\n",
    "    plt.show()\n",
    "    print(targets[sample_cur])\n",
    "\n",
    "\n",
    "    \n",
    "interact(plot_step_fast, step=IntSlider(min=0, max=data.shape[1] - 1), sample_cur=IntSlider(min=0, max=data.shape[0] - 1));"
   ]
  },
  {
   "cell_type": "code",
   "execution_count": null,
   "id": "b2050760",
   "metadata": {},
   "outputs": [],
   "source": []
  }
 ],
 "metadata": {
  "kernelspec": {
   "display_name": "Python 3 (ipykernel)",
   "language": "python",
   "name": "python3"
  },
  "language_info": {
   "codemirror_mode": {
    "name": "ipython",
    "version": 3
   },
   "file_extension": ".py",
   "mimetype": "text/x-python",
   "name": "python",
   "nbconvert_exporter": "python",
   "pygments_lexer": "ipython3",
   "version": "3.9.16"
  }
 },
 "nbformat": 4,
 "nbformat_minor": 5
}
